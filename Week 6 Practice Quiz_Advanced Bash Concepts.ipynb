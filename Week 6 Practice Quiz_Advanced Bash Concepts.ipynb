{
 "cells": [
  {
   "cell_type": "markdown",
   "id": "f0799e04",
   "metadata": {},
   "source": [
    "### Question 1\n",
    "Which command does the while loop initiate a task(s) after?"
   ]
  },
  {
   "cell_type": "markdown",
   "id": "e1a74da0",
   "metadata": {},
   "source": [
    "Ans:\n",
    "do"
   ]
  },
  {
   "cell_type": "markdown",
   "id": "ac53d356",
   "metadata": {},
   "source": [
    "### Question 2\n",
    "Which line is correctly written to start a FOR loop with a sample.txt file?"
   ]
  },
  {
   "cell_type": "markdown",
   "id": "d12c0895",
   "metadata": {},
   "source": [
    "Ans: \n",
    "for file in sample.txt; do"
   ]
  },
  {
   "cell_type": "markdown",
   "id": "45bdde10",
   "metadata": {},
   "source": [
    "### Question 3\n",
    "Which of the following Bash lines contains the condition of taking an action when n is less than or equal to 9?"
   ]
  },
  {
   "cell_type": "markdown",
   "id": "2a728cb8",
   "metadata": {},
   "source": [
    "Ans:\n",
    "while [ $n -le 9 ]; do"
   ]
  },
  {
   "cell_type": "markdown",
   "id": "0893a7e1",
   "metadata": {},
   "source": [
    "### Question 4\n",
    "Which of the following statements are true regarding Bash and Python? [Check all that apply]"
   ]
  },
  {
   "cell_type": "markdown",
   "id": "18ae8e66",
   "metadata": {},
   "source": [
    "Ans: <br />\n",
    "Complex scripts are better suited to Python. <br />\n",
    "Python can more easily operate on strings, lists, and dictionaries. <br />\n",
    "If a script requires testing, Python is preferable."
   ]
  },
  {
   "cell_type": "markdown",
   "id": "ffe127ff",
   "metadata": {},
   "source": [
    "### Question 5\n",
    "The _____ command lets us take only bits of each line using a field delimiter."
   ]
  },
  {
   "cell_type": "markdown",
   "id": "42c294be",
   "metadata": {},
   "source": [
    "Ans:\n",
    "cut"
   ]
  }
 ],
 "metadata": {
  "kernelspec": {
   "display_name": "Python 3",
   "language": "python",
   "name": "python3"
  },
  "language_info": {
   "codemirror_mode": {
    "name": "ipython",
    "version": 3
   },
   "file_extension": ".py",
   "mimetype": "text/x-python",
   "name": "python",
   "nbconvert_exporter": "python",
   "pygments_lexer": "ipython3",
   "version": "3.8.8"
  }
 },
 "nbformat": 4,
 "nbformat_minor": 5
}
