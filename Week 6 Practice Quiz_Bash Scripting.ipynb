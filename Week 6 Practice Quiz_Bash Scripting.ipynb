{
 "cells": [
  {
   "cell_type": "markdown",
   "id": "f0799e04",
   "metadata": {},
   "source": [
    "### Question 1\n",
    "Which of the following commands will output a list of all files in the current directory?"
   ]
  },
  {
   "cell_type": "markdown",
   "id": "e1a74da0",
   "metadata": {},
   "source": [
    "Ans:\n",
    "echo *"
   ]
  },
  {
   "cell_type": "markdown",
   "id": "ac53d356",
   "metadata": {},
   "source": [
    "### Question 2\n",
    "Which module can you load in a Python script to take advantage of star [*] like in BASH?"
   ]
  },
  {
   "cell_type": "markdown",
   "id": "d12c0895",
   "metadata": {},
   "source": [
    "Ans:\n",
    "Glob"
   ]
  },
  {
   "cell_type": "markdown",
   "id": "45bdde10",
   "metadata": {},
   "source": [
    "### Question 3\n",
    "Conditional execution is based on the _____ of commands."
   ]
  },
  {
   "cell_type": "markdown",
   "id": "2a728cb8",
   "metadata": {},
   "source": [
    "Ans:\n",
    "exit status"
   ]
  },
  {
   "cell_type": "markdown",
   "id": "0893a7e1",
   "metadata": {},
   "source": [
    "### Question 4\n",
    "What command evaluates the conditions received on exit to verify that there is an exit status of 0 when the conditions are true, and 1 when they are false?"
   ]
  },
  {
   "cell_type": "markdown",
   "id": "18ae8e66",
   "metadata": {},
   "source": [
    "Ans:\n",
    "test"
   ]
  },
  {
   "cell_type": "markdown",
   "id": "ffe127ff",
   "metadata": {},
   "source": [
    "### Question 5\n",
    "The opening square bracket ([), when combined with the closing square bracket (]), is an alias for which command?"
   ]
  },
  {
   "cell_type": "markdown",
   "id": "42c294be",
   "metadata": {},
   "source": [
    "Ans:\n",
    "test"
   ]
  }
 ],
 "metadata": {
  "kernelspec": {
   "display_name": "Python 3",
   "language": "python",
   "name": "python3"
  },
  "language_info": {
   "codemirror_mode": {
    "name": "ipython",
    "version": 3
   },
   "file_extension": ".py",
   "mimetype": "text/x-python",
   "name": "python",
   "nbconvert_exporter": "python",
   "pygments_lexer": "ipython3",
   "version": "3.8.8"
  }
 },
 "nbformat": 4,
 "nbformat_minor": 5
}
