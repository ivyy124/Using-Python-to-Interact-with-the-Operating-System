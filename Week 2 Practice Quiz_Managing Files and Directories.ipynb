{
 "cells": [
  {
   "cell_type": "code",
   "execution_count": 2,
   "id": "eb551dbb",
   "metadata": {},
   "outputs": [
    {
     "name": "stdout",
     "output_type": "stream",
     "text": [
      "31\n"
     ]
    }
   ],
   "source": [
    "# The create_python_script function creates a new python script in the current working directory, \n",
    "# adds the line of comments to it declared  by the 'comments' variable, \n",
    "# and returns the size of the new file. Fill in the gaps to create a script called \"program.py\".\n",
    "\n",
    "\n",
    "\n",
    "import os\n",
    "\n",
    "def create_python_script(filename):\n",
    "    comments = \"# Start of a new Python program\"\n",
    "    with open(filename, 'w') as f:\n",
    "        f.write(comments)\n",
    "    filesize = os.path.getsize(filename)\n",
    "    return(filesize)\n",
    "\n",
    "print(create_python_script(\"program.py\"))"
   ]
  },
  {
   "cell_type": "code",
   "execution_count": 5,
   "id": "f0cc6c52",
   "metadata": {},
   "outputs": [
    {
     "name": "stdout",
     "output_type": "stream",
     "text": [
      "['script.py']\n"
     ]
    }
   ],
   "source": [
    "# Question 2\n",
    "# The new_directory function creates a new directory inside the current working directory, \n",
    "# then creates a new empty file inside the new directory, \n",
    "# and returns the list of files in that directory. \n",
    "# Fill in the gaps to create a file \"script.py\" in the directory \"PythonPrograms\". \n",
    "\n",
    "import os\n",
    "\n",
    "def new_directory(directory, filename):\n",
    "    # Before creating a new directory, check to see if it already exists\n",
    "    if os.path.isdir(directory) == False:\n",
    "        os.mkdir(directory)\n",
    "\n",
    "    # Create the new file inside of the new directory\n",
    "    os.chdir(directory)\n",
    "    with open(filename,'w') as file:\n",
    "        pass\n",
    "\n",
    "    # Return the list of files in the new directory\n",
    "    return os.listdir()\n",
    "\n",
    "print(new_directory(\"PythonPrograms\", \"script.py\"))"
   ]
  },
  {
   "cell_type": "code",
   "execution_count": 3,
   "id": "63687108",
   "metadata": {},
   "outputs": [
    {
     "name": "stdout",
     "output_type": "stream",
     "text": [
      "2022-09-20\n"
     ]
    }
   ],
   "source": [
    "# The file_date function creates a new file in the current working directory, \n",
    "# checks the date that the file was modified, \n",
    "# and returns just the date portion of the timestamp in the format of yyyy-mm-dd. \n",
    "# Fill in the gaps to create a file called \"newfile.txt\" and check the date that it was modified.\n",
    "\n",
    "import os\n",
    "import datetime\n",
    "\n",
    "def file_date(filename):\n",
    "    # Create the file in the current directory\n",
    "    with open(filename, 'w') as file:\n",
    "        pass\n",
    "    timestamp = os.path.getmtime(filename)\n",
    "    # Convert the timestamp into a readable format, then into a string\n",
    "    timestamp = datetime.datetime.fromtimestamp(timestamp)\n",
    "    date = timestamp.strftime(\"%Y-%m-%d\")\n",
    "    # Return just the date portion \n",
    "    # Hint: how many characters are in “yyyy-mm-dd”? \n",
    "    return date\n",
    "\n",
    "print(file_date(\"newfile.txt\")) \n",
    "# Should be today's date in the format of yyyy-mm-dd"
   ]
  },
  {
   "cell_type": "code",
   "execution_count": 6,
   "id": "d5c8eecd",
   "metadata": {},
   "outputs": [
    {
     "name": "stdout",
     "output_type": "stream",
     "text": [
      "/Users/ivy\n"
     ]
    }
   ],
   "source": [
    "# The parent_directory function returns the name of the directory that's located just above the current working directory. \n",
    "# Remember that '..' is a relative path alias that means \"go up to the parent directory\". \n",
    "# Fill in the gaps to complete this function.\n",
    "import os\n",
    "def parent_directory():\n",
    "    # Create a relative path to the parent \n",
    "    # of the current working directory \n",
    "    relative_parent = os.path.join(os.getcwd(), '..')\n",
    "\n",
    "    # Return the absolute path of the parent directory\n",
    "    return os.path.abspath(relative_parent)\n",
    "\n",
    "print(parent_directory())"
   ]
  }
 ],
 "metadata": {
  "kernelspec": {
   "display_name": "Python 3",
   "language": "python",
   "name": "python3"
  },
  "language_info": {
   "codemirror_mode": {
    "name": "ipython",
    "version": 3
   },
   "file_extension": ".py",
   "mimetype": "text/x-python",
   "name": "python",
   "nbconvert_exporter": "python",
   "pygments_lexer": "ipython3",
   "version": "3.8.8"
  }
 },
 "nbformat": 4,
 "nbformat_minor": 5
}
