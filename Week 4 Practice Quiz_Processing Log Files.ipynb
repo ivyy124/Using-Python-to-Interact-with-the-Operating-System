{
 "cells": [
  {
   "cell_type": "markdown",
   "id": "f0799e04",
   "metadata": {},
   "source": [
    "### Question 1\n",
    "You have created a Python script to read a log of users running CRON jobs. The script needs to accept a command line argument for the path to the log file. Which line of code accomplishes this?"
   ]
  },
  {
   "cell_type": "markdown",
   "id": "e1a74da0",
   "metadata": {},
   "source": [
    "Ans:\n",
    "syslog=sys.argv[1]"
   ]
  },
  {
   "cell_type": "markdown",
   "id": "ac53d356",
   "metadata": {},
   "source": [
    "### Question 2\n",
    "Which of the following is a data structure that can be used to count how many times a specific error appears in a log?"
   ]
  },
  {
   "cell_type": "markdown",
   "id": "d12c0895",
   "metadata": {},
   "source": [
    "Ans:\n",
    "Dictionary"
   ]
  },
  {
   "cell_type": "markdown",
   "id": "45bdde10",
   "metadata": {},
   "source": [
    "### Question 3\n",
    "Which keyword will return control back to the top of a loop when iterating through logs?"
   ]
  },
  {
   "cell_type": "markdown",
   "id": "2a728cb8",
   "metadata": {},
   "source": [
    "Ans: \n",
    "Continue"
   ]
  },
  {
   "cell_type": "markdown",
   "id": "0893a7e1",
   "metadata": {},
   "source": [
    "### Question 4\n",
    "When searching log files using regex, which regex statement will search for the alphanumeric word \"IP\" followed by one or more digits wrapped in parentheses using a capturing group?"
   ]
  },
  {
   "cell_type": "markdown",
   "id": "18ae8e66",
   "metadata": {},
   "source": [
    "Ans:\n",
    "r\"IP \\((\\d+)\\)$\""
   ]
  },
  {
   "cell_type": "markdown",
   "id": "ffe127ff",
   "metadata": {},
   "source": [
    "### Question 5\n",
    "Which of the following are true about parsing log files? (Select all that apply.)"
   ]
  },
  {
   "cell_type": "markdown",
   "id": "42c294be",
   "metadata": {},
   "source": [
    "Ans: <br />\n",
    "You should parse log files line by line. <br />\n",
    "It is efficient to ignore lines that don't contain the information we need. <br />\n",
    "We have to open() the log files first. <br />"
   ]
  }
 ],
 "metadata": {
  "kernelspec": {
   "display_name": "Python 3",
   "language": "python",
   "name": "python3"
  },
  "language_info": {
   "codemirror_mode": {
    "name": "ipython",
    "version": 3
   },
   "file_extension": ".py",
   "mimetype": "text/x-python",
   "name": "python",
   "nbconvert_exporter": "python",
   "pygments_lexer": "ipython3",
   "version": "3.8.8"
  }
 },
 "nbformat": 4,
 "nbformat_minor": 5
}
