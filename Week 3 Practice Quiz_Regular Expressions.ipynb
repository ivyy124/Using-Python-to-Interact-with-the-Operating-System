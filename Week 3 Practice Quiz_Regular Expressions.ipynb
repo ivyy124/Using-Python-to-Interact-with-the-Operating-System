{
 "cells": [
  {
   "cell_type": "markdown",
   "id": "30caf722",
   "metadata": {},
   "source": [
    "### Question 1\n",
    "Question 1\n",
    "When using regular expressions, which of the following expressions uses a reserved character that can represent any single character?"
   ]
  },
  {
   "cell_type": "markdown",
   "id": "93c9d909",
   "metadata": {},
   "source": [
    "Ans: \n",
    "re.findall(f.n, text)"
   ]
  },
  {
   "cell_type": "markdown",
   "id": "518cade9",
   "metadata": {},
   "source": [
    "### Question 2\n",
    "Which of the following is NOT a function of the Python regex module?"
   ]
  },
  {
   "cell_type": "markdown",
   "id": "be5a9012",
   "metadata": {},
   "source": [
    "Ans:\n",
    "re.grep()"
   ]
  },
  {
   "cell_type": "markdown",
   "id": "ea08817e",
   "metadata": {},
   "source": [
    "### Question 3\n",
    "The circumflex [^] and the dollar sign [$] are anchor characters. What do these anchor characters do in regex? "
   ]
  },
  {
   "cell_type": "markdown",
   "id": "bf64d75c",
   "metadata": {},
   "source": [
    "Ans: \n",
    "Match the start and end of a line"
   ]
  },
  {
   "cell_type": "markdown",
   "id": "6aea5a1a",
   "metadata": {},
   "source": [
    "### Question 4\n",
    "When using regex, some characters represent particular types of characters. Some examples are the dollar sign, the circumflex, and the dot wildcard. What are these characters collectively known as?"
   ]
  },
  {
   "cell_type": "markdown",
   "id": "bcce7765",
   "metadata": {},
   "source": [
    "Ans:\n",
    "Special characters"
   ]
  },
  {
   "cell_type": "markdown",
   "id": "e908522c",
   "metadata": {},
   "source": [
    "### Question 5\n",
    "What is grep?"
   ]
  },
  {
   "cell_type": "markdown",
   "id": "2a0cb06c",
   "metadata": {},
   "source": [
    "Ans:\n",
    "A command-line regex tool"
   ]
  },
  {
   "cell_type": "code",
   "execution_count": null,
   "id": "c7c9abb3",
   "metadata": {},
   "outputs": [],
   "source": []
  }
 ],
 "metadata": {
  "kernelspec": {
   "display_name": "Python 3",
   "language": "python",
   "name": "python3"
  },
  "language_info": {
   "codemirror_mode": {
    "name": "ipython",
    "version": 3
   },
   "file_extension": ".py",
   "mimetype": "text/x-python",
   "name": "python",
   "nbconvert_exporter": "python",
   "pygments_lexer": "ipython3",
   "version": "3.8.8"
  }
 },
 "nbformat": 4,
 "nbformat_minor": 5
}
