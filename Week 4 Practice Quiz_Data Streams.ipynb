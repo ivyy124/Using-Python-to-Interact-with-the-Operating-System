{
 "cells": [
  {
   "cell_type": "markdown",
   "id": "f0799e04",
   "metadata": {},
   "source": [
    "### Question 1\n",
    "Which command will print out the exit value of a script that just ran successfully?"
   ]
  },
  {
   "cell_type": "markdown",
   "id": "e1a74da0",
   "metadata": {},
   "source": [
    "Ans:\n",
    "echo $?"
   ]
  },
  {
   "cell_type": "markdown",
   "id": "ac53d356",
   "metadata": {},
   "source": [
    "### Question 2\n",
    "Which command will create a new environment variable?"
   ]
  },
  {
   "cell_type": "markdown",
   "id": "d12c0895",
   "metadata": {},
   "source": [
    "Ans:\n",
    "export"
   ]
  },
  {
   "cell_type": "markdown",
   "id": "45bdde10",
   "metadata": {},
   "source": [
    "### Question 3\n",
    "Which I/O stream are we using when we use the input function to accept user input in a Python script?"
   ]
  },
  {
   "cell_type": "markdown",
   "id": "2a728cb8",
   "metadata": {},
   "source": [
    "Ans:\n",
    "STDIN"
   ]
  },
  {
   "cell_type": "markdown",
   "id": "0893a7e1",
   "metadata": {},
   "source": [
    "### Question 4\n",
    "What is the meaning of an exit code of 0?"
   ]
  },
  {
   "cell_type": "markdown",
   "id": "18ae8e66",
   "metadata": {},
   "source": [
    "Ans:\n",
    "The program ended successfully."
   ]
  },
  {
   "cell_type": "markdown",
   "id": "ffe127ff",
   "metadata": {},
   "source": [
    "### Question 5\n",
    "Which statements are true about  input and raw_input in Python 2? (select all that apply)"
   ]
  },
  {
   "cell_type": "markdown",
   "id": "42c294be",
   "metadata": {},
   "source": [
    "Ans:<br />\n",
    "input performs basic math operations.<br />\n",
    "raw_input gets a string from the user."
   ]
  }
 ],
 "metadata": {
  "kernelspec": {
   "display_name": "Python 3",
   "language": "python",
   "name": "python3"
  },
  "language_info": {
   "codemirror_mode": {
    "name": "ipython",
    "version": 3
   },
   "file_extension": ".py",
   "mimetype": "text/x-python",
   "name": "python",
   "nbconvert_exporter": "python",
   "pygments_lexer": "ipython3",
   "version": "3.8.8"
  }
 },
 "nbformat": 4,
 "nbformat_minor": 5
}
