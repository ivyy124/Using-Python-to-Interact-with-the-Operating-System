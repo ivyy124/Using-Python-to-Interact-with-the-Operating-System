{
 "cells": [
  {
   "cell_type": "markdown",
   "id": "eae72ea7",
   "metadata": {},
   "source": [
    "## Using Python to interact with the operating system\n",
    "## Week 1 Getting Your Python On"
   ]
  },
  {
   "cell_type": "markdown",
   "id": "0267a947",
   "metadata": {},
   "source": [
    "### Practice Quiz: Getting Ready for Python"
   ]
  },
  {
   "cell_type": "markdown",
   "id": "e1a16b8c",
   "metadata": {},
   "source": [
    "### Question 1\n",
    "Which of the following is the most modern, up-to-date version of Python?\n"
   ]
  },
  {
   "cell_type": "markdown",
   "id": "d12739db",
   "metadata": {},
   "source": [
    "Ans: Python 3"
   ]
  },
  {
   "cell_type": "markdown",
   "id": "fcb02af8",
   "metadata": {},
   "source": [
    "### Question 2\n",
    "Which of the following operating systems is compatible with Python 3?"
   ]
  },
  {
   "cell_type": "markdown",
   "id": "20e9a158",
   "metadata": {},
   "source": [
    "Ans: All of the above"
   ]
  },
  {
   "cell_type": "markdown",
   "id": "b0156074",
   "metadata": {},
   "source": [
    "### Question 3\n",
    "Which of the following operating systems does not run on a Linux kernel?"
   ]
  },
  {
   "cell_type": "markdown",
   "id": "9e00ca0a",
   "metadata": {},
   "source": [
    "Ans: Mac OS"
   ]
  },
  {
   "cell_type": "markdown",
   "id": "e92baecf",
   "metadata": {},
   "source": [
    "### Question 4\n",
    "If we want to check to see  what version of Python is installed, what would we type into the command line? Select all that apply."
   ]
  },
  {
   "cell_type": "markdown",
   "id": "cdc1db9a",
   "metadata": {},
   "source": [
    "Ans: \n",
    "python -V, python --version"
   ]
  },
  {
   "cell_type": "markdown",
   "id": "34814fa2",
   "metadata": {},
   "source": [
    "### Question 5\n",
    "Question 5\n",
    "What is pip an example of?"
   ]
  },
  {
   "cell_type": "markdown",
   "id": "c6cbc21e",
   "metadata": {},
   "source": [
    "Ans: \n",
    "A Python package manager"
   ]
  },
  {
   "cell_type": "markdown",
   "id": "30920ba2",
   "metadata": {},
   "source": [
    "### Practice Quiz: Running Python Locally"
   ]
  },
  {
   "cell_type": "markdown",
   "id": "520f0a22",
   "metadata": {},
   "source": [
    "### Question 1 \n",
    "When your IDE automatically creates an indent for you, this is known as what?"
   ]
  },
  {
   "cell_type": "markdown",
   "id": "c85e8f63",
   "metadata": {},
   "source": [
    "Ans: Code completion"
   ]
  },
  {
   "cell_type": "markdown",
   "id": "582560a1",
   "metadata": {},
   "source": [
    "### Question 2\n",
    "Can you identify the error in the following code?"
   ]
  },
  {
   "cell_type": "code",
   "execution_count": 9,
   "id": "45cd03c4",
   "metadata": {},
   "outputs": [
    {
     "ename": "NameError",
     "evalue": "name 'numpy' is not defined",
     "output_type": "error",
     "traceback": [
      "\u001b[0;31m---------------------------------------------------------------------------\u001b[0m",
      "\u001b[0;31mNameError\u001b[0m                                 Traceback (most recent call last)",
      "\u001b[0;32m<ipython-input-9-d81dfc677bf0>\u001b[0m in \u001b[0;36m<module>\u001b[0;34m\u001b[0m\n\u001b[1;32m      6\u001b[0m     \u001b[0my\u001b[0m \u001b[0;34m=\u001b[0m \u001b[0mnumpy\u001b[0m\u001b[0;34m.\u001b[0m\u001b[0marray\u001b[0m\u001b[0;34m(\u001b[0m\u001b[0;34m[\u001b[0m\u001b[0;34m[\u001b[0m\u001b[0;36m3\u001b[0m\u001b[0;34m,\u001b[0m \u001b[0;36m6\u001b[0m\u001b[0;34m,\u001b[0m \u001b[0;36m2\u001b[0m\u001b[0;34m]\u001b[0m\u001b[0;34m,\u001b[0m \u001b[0;34m[\u001b[0m\u001b[0;36m9\u001b[0m\u001b[0;34m,\u001b[0m \u001b[0;36m12\u001b[0m\u001b[0;34m,\u001b[0m \u001b[0;36m8\u001b[0m\u001b[0;34m]\u001b[0m\u001b[0;34m]\u001b[0m\u001b[0;34m,\u001b[0m \u001b[0mnp\u001b[0m\u001b[0;34m.\u001b[0m\u001b[0mint32\u001b[0m\u001b[0;34m)\u001b[0m\u001b[0;34m\u001b[0m\u001b[0;34m\u001b[0m\u001b[0m\n\u001b[1;32m      7\u001b[0m     \u001b[0;32mreturn\u001b[0m \u001b[0mx\u001b[0m\u001b[0;34m*\u001b[0m\u001b[0my\u001b[0m\u001b[0;34m\u001b[0m\u001b[0;34m\u001b[0m\u001b[0m\n\u001b[0;32m----> 8\u001b[0;31m \u001b[0mprint\u001b[0m\u001b[0;34m(\u001b[0m\u001b[0mnumpyArray\u001b[0m\u001b[0;34m(\u001b[0m\u001b[0;34m)\u001b[0m\u001b[0;34m)\u001b[0m\u001b[0;34m\u001b[0m\u001b[0;34m\u001b[0m\u001b[0m\n\u001b[0m",
      "\u001b[0;32m<ipython-input-9-d81dfc677bf0>\u001b[0m in \u001b[0;36mnumpyArray\u001b[0;34m()\u001b[0m\n\u001b[1;32m      4\u001b[0m \u001b[0;32mdef\u001b[0m \u001b[0mnumpyArray\u001b[0m\u001b[0;34m(\u001b[0m\u001b[0;34m)\u001b[0m\u001b[0;34m:\u001b[0m\u001b[0;34m\u001b[0m\u001b[0;34m\u001b[0m\u001b[0m\n\u001b[1;32m      5\u001b[0m     \u001b[0mx\u001b[0m \u001b[0;34m=\u001b[0m \u001b[0mnp\u001b[0m\u001b[0;34m.\u001b[0m\u001b[0marray\u001b[0m\u001b[0;34m(\u001b[0m\u001b[0;34m[\u001b[0m\u001b[0;34m[\u001b[0m\u001b[0;36m1\u001b[0m\u001b[0;34m,\u001b[0m \u001b[0;36m2\u001b[0m\u001b[0;34m,\u001b[0m \u001b[0;36m3\u001b[0m\u001b[0;34m]\u001b[0m\u001b[0;34m,\u001b[0m \u001b[0;34m[\u001b[0m\u001b[0;36m4\u001b[0m\u001b[0;34m,\u001b[0m \u001b[0;36m5\u001b[0m\u001b[0;34m,\u001b[0m \u001b[0;36m6\u001b[0m\u001b[0;34m]\u001b[0m\u001b[0;34m]\u001b[0m\u001b[0;34m,\u001b[0m \u001b[0mnp\u001b[0m\u001b[0;34m.\u001b[0m\u001b[0mint32\u001b[0m\u001b[0;34m)\u001b[0m\u001b[0;34m\u001b[0m\u001b[0;34m\u001b[0m\u001b[0m\n\u001b[0;32m----> 6\u001b[0;31m     \u001b[0my\u001b[0m \u001b[0;34m=\u001b[0m \u001b[0mnumpy\u001b[0m\u001b[0;34m.\u001b[0m\u001b[0marray\u001b[0m\u001b[0;34m(\u001b[0m\u001b[0;34m[\u001b[0m\u001b[0;34m[\u001b[0m\u001b[0;36m3\u001b[0m\u001b[0;34m,\u001b[0m \u001b[0;36m6\u001b[0m\u001b[0;34m,\u001b[0m \u001b[0;36m2\u001b[0m\u001b[0;34m]\u001b[0m\u001b[0;34m,\u001b[0m \u001b[0;34m[\u001b[0m\u001b[0;36m9\u001b[0m\u001b[0;34m,\u001b[0m \u001b[0;36m12\u001b[0m\u001b[0;34m,\u001b[0m \u001b[0;36m8\u001b[0m\u001b[0;34m]\u001b[0m\u001b[0;34m]\u001b[0m\u001b[0;34m,\u001b[0m \u001b[0mnp\u001b[0m\u001b[0;34m.\u001b[0m\u001b[0mint32\u001b[0m\u001b[0;34m)\u001b[0m\u001b[0;34m\u001b[0m\u001b[0;34m\u001b[0m\u001b[0m\n\u001b[0m\u001b[1;32m      7\u001b[0m     \u001b[0;32mreturn\u001b[0m \u001b[0mx\u001b[0m\u001b[0;34m*\u001b[0m\u001b[0my\u001b[0m\u001b[0;34m\u001b[0m\u001b[0;34m\u001b[0m\u001b[0m\n\u001b[1;32m      8\u001b[0m \u001b[0mprint\u001b[0m\u001b[0;34m(\u001b[0m\u001b[0mnumpyArray\u001b[0m\u001b[0;34m(\u001b[0m\u001b[0;34m)\u001b[0m\u001b[0;34m)\u001b[0m\u001b[0;34m\u001b[0m\u001b[0;34m\u001b[0m\u001b[0m\n",
      "\u001b[0;31mNameError\u001b[0m: name 'numpy' is not defined"
     ]
    }
   ],
   "source": [
    "#!/usr/bin/env python3\n",
    "import numpy as np\n",
    "\n",
    "def numpyArray():\n",
    "    x = np.array([[1, 2, 3], [4, 5, 6]], np.int32)\n",
    "    y = numpy.array([[3, 6, 2], [9, 12, 8]], np.int32)\n",
    "    return x*y\n",
    "print(numpyArray())"
   ]
  },
  {
   "cell_type": "markdown",
   "id": "58de2106",
   "metadata": {},
   "source": [
    "Ans: The y variable is not calling the numpy module properly."
   ]
  },
  {
   "cell_type": "markdown",
   "id": "f46d1bde",
   "metadata": {},
   "source": [
    "### Question 3\n",
    "Which type of programming language is read and converted to machine code before runtime, allowing for more efficient code?"
   ]
  },
  {
   "cell_type": "markdown",
   "id": "7d8dd3bf",
   "metadata": {},
   "source": [
    "Ans: Complied language"
   ]
  },
  {
   "cell_type": "markdown",
   "id": "0f2c1be1",
   "metadata": {},
   "source": [
    "### Question 4\n",
    "Which of the following is not an IDE or code editor?"
   ]
  },
  {
   "cell_type": "markdown",
   "id": "0aa035bb",
   "metadata": {},
   "source": [
    "Ans: pip"
   ]
  },
  {
   "cell_type": "markdown",
   "id": "c59c793b",
   "metadata": {},
   "source": [
    "### Question 5\n",
    "What does the PATH variable do?"
   ]
  },
  {
   "cell_type": "markdown",
   "id": "58441c60",
   "metadata": {},
   "source": [
    "Ans: Tells the operating system where to find executables"
   ]
  }
 ],
 "metadata": {
  "kernelspec": {
   "display_name": "Python 3",
   "language": "python",
   "name": "python3"
  },
  "language_info": {
   "codemirror_mode": {
    "name": "ipython",
    "version": 3
   },
   "file_extension": ".py",
   "mimetype": "text/x-python",
   "name": "python",
   "nbconvert_exporter": "python",
   "pygments_lexer": "ipython3",
   "version": "3.8.8"
  }
 },
 "nbformat": 4,
 "nbformat_minor": 5
}
