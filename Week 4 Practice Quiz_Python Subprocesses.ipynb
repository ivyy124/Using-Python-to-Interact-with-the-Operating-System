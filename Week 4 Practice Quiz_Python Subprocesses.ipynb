{
 "cells": [
  {
   "cell_type": "markdown",
   "id": "f0799e04",
   "metadata": {},
   "source": [
    "### Question 1\n",
    "What type of object does a run function return?"
   ]
  },
  {
   "cell_type": "markdown",
   "id": "e1a74da0",
   "metadata": {},
   "source": [
    "Ans:\n",
    "CompletedProcess"
   ]
  },
  {
   "cell_type": "markdown",
   "id": "ac53d356",
   "metadata": {},
   "source": [
    "### Question 2\n",
    "How can you change the current working directory where a command will be executed?"
   ]
  },
  {
   "cell_type": "markdown",
   "id": "d12c0895",
   "metadata": {},
   "source": [
    "Ans:\n",
    "Use the cwd parameter."
   ]
  },
  {
   "cell_type": "markdown",
   "id": "45bdde10",
   "metadata": {},
   "source": [
    "### Question 3\n",
    "When a child process is run using the subprocess module, which of the following are true? (check all that apply)"
   ]
  },
  {
   "cell_type": "markdown",
   "id": "2a728cb8",
   "metadata": {},
   "source": [
    "Ans: <br />\n",
    "The child process is run in a secondary environment. <br />\n",
    "The parent process is blocked while the child process finishes. <br />\n",
    "Control is returned to the parent process when the child process ends. "
   ]
  },
  {
   "cell_type": "markdown",
   "id": "0893a7e1",
   "metadata": {},
   "source": [
    "### Question 4\n",
    "When using the run command of the subprocess module, what parameter, when set to True, allows us to store the output of a system command?"
   ]
  },
  {
   "cell_type": "markdown",
   "id": "18ae8e66",
   "metadata": {},
   "source": [
    "Ans:\n",
    "capture_output"
   ]
  },
  {
   "cell_type": "markdown",
   "id": "ffe127ff",
   "metadata": {},
   "source": [
    "### Question 5\n",
    "What does the copy method of os.environ do?"
   ]
  },
  {
   "cell_type": "markdown",
   "id": "42c294be",
   "metadata": {},
   "source": [
    "Ans: Creates a new dictionary of environment variables"
   ]
  }
 ],
 "metadata": {
  "kernelspec": {
   "display_name": "Python 3",
   "language": "python",
   "name": "python3"
  },
  "language_info": {
   "codemirror_mode": {
    "name": "ipython",
    "version": 3
   },
   "file_extension": ".py",
   "mimetype": "text/x-python",
   "name": "python",
   "nbconvert_exporter": "python",
   "pygments_lexer": "ipython3",
   "version": "3.8.8"
  }
 },
 "nbformat": 4,
 "nbformat_minor": 5
}
